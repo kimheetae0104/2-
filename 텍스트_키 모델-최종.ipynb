{
 "cells": [
  {
   "cell_type": "markdown",
   "id": "da6ebe89",
   "metadata": {},
   "source": [
    "# 플라스크 임포트  "
   ]
  },
  {
   "cell_type": "code",
   "execution_count": 1,
   "id": "febaccbf",
   "metadata": {},
   "outputs": [
    {
     "name": "stdout",
     "output_type": "stream",
     "text": [
      "Requirement already satisfied: PyMySQL in c:\\users\\smhrd\\anaconda3\\lib\\site-packages (1.0.2)\n"
     ]
    }
   ],
   "source": [
    "!pip install PyMySQL"
   ]
  },
  {
   "cell_type": "code",
   "execution_count": 2,
   "id": "0fe82558",
   "metadata": {},
   "outputs": [],
   "source": [
    "from flask import Flask\n",
    "from flask import redirect, request , jsonify\n",
    "from flask_cors import CORS\n",
    "import pandas as pd\n",
    "import pickle\n",
    "from konlpy.tag import Okt, Kkma\n",
    "okt = Okt()\n",
    "from sklearn.feature_extraction.text import CountVectorizer\n",
    "\n",
    "import numpy as np\n",
    "from tensorflow.keras.preprocessing.sequence import pad_sequences\n",
    "from tensorflow.keras.models import load_model\n",
    "import pymysql"
   ]
  },
  {
   "cell_type": "markdown",
   "id": "c381046b",
   "metadata": {},
   "source": [
    "# PymySQL"
   ]
  },
  {
   "cell_type": "code",
   "execution_count": 3,
   "id": "e6d32177",
   "metadata": {},
   "outputs": [],
   "source": [
    "import pymysql"
   ]
  },
  {
   "cell_type": "code",
   "execution_count": 4,
   "id": "0dee3f8e",
   "metadata": {},
   "outputs": [
    {
     "data": {
      "text/plain": [
       "<pymysql.connections.Connection at 0x1f7b2059a00>"
      ]
     },
     "execution_count": 4,
     "metadata": {},
     "output_type": "execute_result"
    }
   ],
   "source": [
    "db = pymysql.connect(host = 'project-db-stu.ddns.net', port = 3307, user= 'dodam',\n",
    "                    passwd='115', db='dodam', charset='utf8')\n",
    "db"
   ]
  },
  {
   "cell_type": "code",
   "execution_count": 5,
   "id": "2e7a29e2",
   "metadata": {},
   "outputs": [
    {
     "data": {
      "text/plain": [
       "<pymysql.cursors.DictCursor at 0x1f7b3820400>"
      ]
     },
     "execution_count": 5,
     "metadata": {},
     "output_type": "execute_result"
    }
   ],
   "source": [
    "cursor = db.cursor(pymysql.cursors.DictCursor)\n",
    "cursor"
   ]
  },
  {
   "cell_type": "code",
   "execution_count": 6,
   "id": "5ef6e777",
   "metadata": {
    "scrolled": true
   },
   "outputs": [
    {
     "data": {
      "text/plain": [
       "[{'d_seq': 1,\n",
       "  'm_id': 'admin',\n",
       "  'c_seq': 1,\n",
       "  'd_title': '랄랄라 즐거운 스마트 인재 개발원 ',\n",
       "  'd_content': '오늘은 점심은 또 뭐먹을까 ',\n",
       "  'd_msg': '1515 볶음밥은 맛있어 ',\n",
       "  'd_date': datetime.date(2022, 4, 15)},\n",
       " {'d_seq': 2,\n",
       "  'm_id': 'admin',\n",
       "  'c_seq': 1,\n",
       "  'd_title': '랄랄라 오늘도 즐거운 스마트 인재 개발원 ',\n",
       "  'd_content': '오늘은 점심은 짜장이다! ',\n",
       "  'd_msg': '1515 볶음밥은 맛있어 ',\n",
       "  'd_date': datetime.date(2022, 4, 16)},\n",
       " {'d_seq': 3,\n",
       "  'm_id': 'admin',\n",
       "  'c_seq': 1,\n",
       "  'd_title': '랄랄라 매일 즐거운 스마트 인재 개발원 ',\n",
       "  'd_content': '오늘은 점심은 돈가스다! ',\n",
       "  'd_msg': '1515 볶음밥은 맛있어 ',\n",
       "  'd_date': datetime.date(2022, 4, 17)},\n",
       " {'d_seq': 4,\n",
       "  'm_id': 'admin',\n",
       "  'c_seq': 1,\n",
       "  'd_title': '슬픈 토요일 등원 ',\n",
       "  'd_content': '오늘은 점심은 맛있는거 먹어야지 ',\n",
       "  'd_msg': '1515 볶음밥은 맛있어 ',\n",
       "  'd_date': datetime.date(2022, 4, 18)},\n",
       " {'d_seq': 5,\n",
       "  'm_id': 'admin',\n",
       "  'c_seq': 1,\n",
       "  'd_title': '즐거운 야근 너무 즐거워 ',\n",
       "  'd_content': '에너지 드링크가 필요해 ',\n",
       "  'd_msg': '1515 볶음밥은 맛있어 ',\n",
       "  'd_date': datetime.date(2022, 4, 19)}]"
      ]
     },
     "execution_count": 6,
     "metadata": {},
     "output_type": "execute_result"
    }
   ],
   "source": [
    "sql = \"SELECT * FROM `t_diary`;\"\n",
    "cursor.execute(sql)\n",
    "result = cursor.fetchall()\n",
    "result"
   ]
  },
  {
   "cell_type": "code",
   "execution_count": 7,
   "id": "0c439881",
   "metadata": {},
   "outputs": [],
   "source": [
    "def myTokenizer2(text):\n",
    "    d = pd.DataFrame(okt.pos(text, norm=True, stem=True), columns=['morph','tag'])\n",
    "    d.set_index('tag', inplace=True)\n",
    "    if ('Noun' in d.index) | ('Verb' in d.index) | ('Adjective' in d.index):\n",
    "        labels = ['Noun','Verb','Adjective']\n",
    "        return d.loc[d.index.intersection(labels)].dropna()['morph'].values\n",
    "    else :\n",
    "        return []"
   ]
  },
  {
   "cell_type": "code",
   "execution_count": 8,
   "id": "b99fc295",
   "metadata": {},
   "outputs": [],
   "source": [
    "def height_predict(model, input_height, n=72):\n",
    "    max_len = 72\n",
    "    for _ in range(len(input_height),n):# n번 반복\n",
    "        encoded = pad_sequences(input_height, maxlen=max_len-1, padding='pre',dtype='float32').reshape(71,-1)\n",
    "        result = model.predict([encoded.tolist()],verbose=0)\n",
    "        input_height = np.hstack([input_height,result])\n",
    "    return input_height"
   ]
  },
  {
   "cell_type": "code",
   "execution_count": null,
   "id": "0ec58c92",
   "metadata": {},
   "outputs": [
    {
     "name": "stdout",
     "output_type": "stream",
     "text": [
      " * Serving Flask app \"__main__\" (lazy loading)\n",
      " * Environment: production\n",
      "\u001b[31m   WARNING: This is a development server. Do not use it in a production deployment.\u001b[0m\n",
      "\u001b[2m   Use a production WSGI server instead.\u001b[0m\n",
      " * Debug mode: off\n"
     ]
    },
    {
     "name": "stderr",
     "output_type": "stream",
     "text": [
      " * Running on http://127.0.0.1:7000/ (Press CTRL+C to quit)\n"
     ]
    },
    {
     "data": {
      "text/plain": [
       "ImmutableMultiDict([('height', '52')])"
      ]
     },
     "metadata": {},
     "output_type": "display_data"
    },
    {
     "name": "stdout",
     "output_type": "stream",
     "text": [
      "52\n"
     ]
    },
    {
     "name": "stderr",
     "output_type": "stream",
     "text": [
      "127.0.0.1 - - [21/Apr/2022 16:53:00] \"POST /height HTTP/1.1\" 302 -\n"
     ]
    },
    {
     "name": "stdout",
     "output_type": "stream",
     "text": [
      "[['52' '52.55475' '53.675064' '54.716694' '55.653076' '56.659836'\n",
      "  '57.812305' '58.940125' '60.0137' '61.05394' '62.106' '63.218784'\n",
      "  '64.37981' '65.53065' '66.63771' '67.70076' '68.72987' '69.73638'\n",
      "  '70.73167' '71.725266' '72.72243' '73.722275' '74.717316' '75.69474'\n",
      "  '76.63948' '77.53802' '78.3815' '79.16699' '79.89683' '80.576965'\n",
      "  '81.21526' '81.82023' '82.4003' '82.96343' '83.51701' '84.06778'\n",
      "  '84.62179' '85.18448' '85.76071' '86.354904' '86.97135' '87.61482'\n",
      "  '88.291336' '89.009254' '89.780876' '90.62506' '91.56841' '92.63772'\n",
      "  '93.845535' '95.191475' '96.677574' '98.307014' '100.065254'\n",
      "  '101.90384' '103.74593' '105.51656' '107.1733' '108.71192' '110.153076'\n",
      "  '111.530205' '112.88197' '114.23802' '115.588745' '116.84654'\n",
      "  '117.85872' '118.526024' '118.884125' '119.051056' '119.1238'\n",
      "  '119.1544' '119.16708' '119.1723']]\n"
     ]
    },
    {
     "data": {
      "text/plain": [
       "ImmutableMultiDict([('height', '51.72')])"
      ]
     },
     "metadata": {},
     "output_type": "display_data"
    },
    {
     "name": "stdout",
     "output_type": "stream",
     "text": [
      "51.72\n"
     ]
    },
    {
     "name": "stderr",
     "output_type": "stream",
     "text": [
      "127.0.0.1 - - [21/Apr/2022 16:56:12] \"POST /height HTTP/1.1\" 302 -\n"
     ]
    },
    {
     "name": "stdout",
     "output_type": "stream",
     "text": [
      "[['51.72' '52.288704' '53.452297' '54.50543' '55.449787' '56.467236'\n",
      "  '57.62971' '58.765656' '59.845688' '60.8884' '61.934162' '63.03565'\n",
      "  '64.192566' '65.34844' '66.46313' '67.53264' '68.56645' '69.5758'\n",
      "  '70.57217' '71.565544' '72.56202' '73.56178' '74.55836' '75.53962'\n",
      "  '76.49061' '77.39731' '78.249985' '79.04475' '79.78318' '80.47079'\n",
      "  '81.11522' '81.72495' '82.308464' '82.873795' '83.428444' '83.979225'\n",
      "  '84.532326' '85.093285' '85.66703' '86.25803' '86.870605' '87.50938'\n",
      "  '88.1801' '88.89068' '89.65261' '90.48352' '91.40897' '92.45672'\n",
      "  '93.64217' '94.96599' '96.42919' '98.03586' '99.7757' '101.6061'\n",
      "  '103.453186' '105.23923' '106.91543' '108.4721' '109.92689' '111.31173'\n",
      "  '112.66508' '114.01958' '115.37468' '116.65692' '117.71844' '118.44187'\n",
      "  '118.84281' '119.0325' '119.11588' '119.1511' '119.16572' '119.171745']]\n"
     ]
    },
    {
     "data": {
      "text/plain": [
       "ImmutableMultiDict([('height', '0')])"
      ]
     },
     "metadata": {},
     "output_type": "display_data"
    },
    {
     "name": "stdout",
     "output_type": "stream",
     "text": [
      "0\n"
     ]
    },
    {
     "name": "stderr",
     "output_type": "stream",
     "text": [
      "127.0.0.1 - - [21/Apr/2022 16:57:21] \"POST /height HTTP/1.1\" 302 -\n"
     ]
    },
    {
     "name": "stdout",
     "output_type": "stream",
     "text": [
      "[['0' '23.777151' '33.947655' '35.476326' '37.031174' '38.8982' '41.6095'\n",
      "  '44.449215' '46.483784' '48.32634' '50.110477' '51.775867' '53.29609'\n",
      "  '54.698215' '56.00648' '57.23103' '58.3839' '59.478737' '60.529022'\n",
      "  '61.564465' '62.64005' '63.781536' '64.94435' '66.075485' '67.16012'\n",
      "  '68.20527' '69.22193' '70.2216' '71.215096' '72.21012' '73.209114'\n",
      "  '74.20793' '75.19622' '76.159615' '77.08333' '77.95582' '78.77109'\n",
      "  '79.52893' '80.23366' '80.89237' '81.51337' '82.10518' '82.67604'\n",
      "  '83.23365' '83.785065' '84.336685' '84.89428' '85.46298' '86.04742'\n",
      "  '86.65188' '87.28082' '87.93952' '88.63496' '89.37714' '90.18121'\n",
      "  '91.07' '92.071915' '93.20821' '94.48346' '95.89697' '97.453026'\n",
      "  '99.14888' '100.95451' '102.805176' '104.62033' '106.33825' '107.9361'\n",
      "  '109.4237' '110.82898' '112.18902' '113.54067' '114.899376']]\n"
     ]
    },
    {
     "data": {
      "text/plain": [
       "ImmutableMultiDict([('height', '0.0')])"
      ]
     },
     "metadata": {},
     "output_type": "display_data"
    },
    {
     "name": "stdout",
     "output_type": "stream",
     "text": [
      "0.0\n"
     ]
    },
    {
     "data": {
      "text/plain": [
       "ImmutableMultiDict([('height', '0.0')])"
      ]
     },
     "metadata": {},
     "output_type": "display_data"
    },
    {
     "name": "stdout",
     "output_type": "stream",
     "text": [
      "0.0\n"
     ]
    },
    {
     "name": "stderr",
     "output_type": "stream",
     "text": [
      "127.0.0.1 - - [21/Apr/2022 16:58:19] \"POST /height HTTP/1.1\" 302 -\n"
     ]
    },
    {
     "name": "stdout",
     "output_type": "stream",
     "text": [
      "[['0.0' '23.777151' '33.947655' '35.476326' '37.031174' '38.8982'\n",
      "  '41.6095' '44.449215' '46.483784' '48.32634' '50.110477' '51.775867'\n",
      "  '53.29609' '54.698215' '56.00648' '57.23103' '58.3839' '59.478737'\n",
      "  '60.529022' '61.564465' '62.64005' '63.781536' '64.94435' '66.075485'\n",
      "  '67.16012' '68.20527' '69.22193' '70.2216' '71.215096' '72.21012'\n",
      "  '73.209114' '74.20793' '75.19622' '76.159615' '77.08333' '77.95582'\n",
      "  '78.77109' '79.52893' '80.23366' '80.89237' '81.51337' '82.10518'\n",
      "  '82.67604' '83.23365' '83.785065' '84.336685' '84.89428' '85.46298'\n",
      "  '86.04742' '86.65188' '87.28082' '87.93952' '88.63496' '89.37714'\n",
      "  '90.18121' '91.07' '92.071915' '93.20821' '94.48346' '95.89697'\n",
      "  '97.453026' '99.14888' '100.95451' '102.805176' '104.62033' '106.33825'\n",
      "  '107.9361' '109.4237' '110.82898' '112.18902' '113.54067' '114.899376']]\n"
     ]
    },
    {
     "name": "stderr",
     "output_type": "stream",
     "text": [
      "127.0.0.1 - - [21/Apr/2022 16:58:21] \"POST /height HTTP/1.1\" 302 -\n"
     ]
    },
    {
     "name": "stdout",
     "output_type": "stream",
     "text": [
      "[['0.0' '23.777151' '33.947655' '35.476326' '37.031174' '38.8982'\n",
      "  '41.6095' '44.449215' '46.483784' '48.32634' '50.110477' '51.775867'\n",
      "  '53.29609' '54.698215' '56.00648' '57.23103' '58.3839' '59.478737'\n",
      "  '60.529022' '61.564465' '62.64005' '63.781536' '64.94435' '66.075485'\n",
      "  '67.16012' '68.20527' '69.22193' '70.2216' '71.215096' '72.21012'\n",
      "  '73.209114' '74.20793' '75.19622' '76.159615' '77.08333' '77.95582'\n",
      "  '78.77109' '79.52893' '80.23366' '80.89237' '81.51337' '82.10518'\n",
      "  '82.67604' '83.23365' '83.785065' '84.336685' '84.89428' '85.46298'\n",
      "  '86.04742' '86.65188' '87.28082' '87.93952' '88.63496' '89.37714'\n",
      "  '90.18121' '91.07' '92.071915' '93.20821' '94.48346' '95.89697'\n",
      "  '97.453026' '99.14888' '100.95451' '102.805176' '104.62033' '106.33825'\n",
      "  '107.9361' '109.4237' '110.82898' '112.18902' '113.54067' '114.899376']]\n"
     ]
    }
   ],
   "source": [
    "# 수정\n",
    "result = {}\n",
    "app = Flask(__name__)\n",
    "CORS(app)\n",
    "\n",
    "# with open('dodam_model.pkl', 'rb') as f:\n",
    "#     model = pickle.load(f)\n",
    "    \n",
    "@app.route(\"/post2\",  methods=[\"POST\", \"GET\"])\n",
    "\n",
    "    \n",
    "def test():\n",
    "    if (request.method==\"POST\"):\n",
    "       \n",
    "        display(request.form)\n",
    "        m_id=request.form.get('m_id')\n",
    "        c_seq=request.form.get('c_seq')\n",
    "        d_title=request.form.get('d_title')\n",
    "        d_content=request.form.get('d_content')\n",
    "        d_msg=request.form.get('d_msg')\n",
    "        d_date=request.form.get('d_date')\n",
    "        \n",
    "        sql = '''insert into `t_diary` (m_id, c_seq, d_title, d_content, d_msg, d_date) \n",
    "values(%s, %s, %s, %s, %s, %s)'''\n",
    "        cursor.execute(sql , (m_id, c_seq, d_title, d_content, d_msg, d_date))\n",
    "        db.commit()\n",
    "        result = cursor.fetchall()\n",
    "        result\n",
    "        #텍스트마이닝 \n",
    "        result = request.form.get('d_content')\n",
    "        with open('dodam_cv.pkl', 'rb') as f:\n",
    "    # 정의된 모델 선언\n",
    "            cv = pickle.load(f)\n",
    "    # 사용자가 입력한 데이터를 모델이 읽을 수 있는 데이터로 변환\n",
    "            data_review = cv.transform([result])\n",
    "    # 예측 결과를 a에 담는다.\n",
    "            with open('dodam_lr.pkl','rb') as f1:\n",
    "                lr_model = pickle.load(f1)\n",
    "                pre = lr_model.predict_proba(data_review)\n",
    "                feel_list = ['기쁨','분노','불안','슬픔']\n",
    "                result_list = []\n",
    "                for i in range(len(feel_list)):\n",
    "                    result_list.append(pre[0][i])\n",
    "                    print(f\"{feel_list[i]} : {pre[0][i]}\")\n",
    "                e_joy = round((result_list[0]*100),2)\n",
    "                e_joy = e_joy.item()\n",
    "                e_sorrow = round((result_list[3]*100),2)\n",
    "                e_sorrow = e_sorrow.item()\n",
    "                print(e_sorrow)\n",
    "                print(type(e_sorrow))\n",
    "                e_anger = round((result_list[1]*100),2)\n",
    "                e_anger = e_anger.item()\n",
    "                e_unrest = round((result_list[2]*100),2)\n",
    "                e_unrest = e_unrest.item()\n",
    "                sql1 = '''insert into `t_emotion` (m_id, e_joy, e_sorrow, e_anger, e_unrest, d_date) \n",
    "values(%s, %s, %s, %s, %s, %s)'''\n",
    "                cursor.execute(sql1, (m_id, e_joy, e_sorrow, e_anger, e_unrest, d_date))\n",
    "                db.commit()\n",
    "                result1 = cursor.fetchall()\n",
    "                result1\n",
    "                print(pre[0])\n",
    "#         result = test()\n",
    "#         print(result)\n",
    "        result2 = str(\"%.2f%%\"%(pre[0][0]*100)) + \"<br>\" + str(feel_list[1])+\" : \"+str(\"%.2f%%\"%(pre[0][1]*100)) + \"<br>\"+str(feel_list[2])+\" : \"+str(\"%.2f%%\"%(pre[0][2]*100)) + \"<br>\"+str(feel_list[3])+\" : \"+str(\"%.2f%%\"%(pre[0][3]*100))\n",
    "        #return str(feel_list[0])+\" : \"\n",
    "        return redirect(\"http://localhost:8089/dodam/diary.do?result2=\"+result2)\n",
    "    \n",
    "    else:\n",
    "        \n",
    "        return \"NOT FOUND 404\"\n",
    "    \n",
    "#키 예측 모델 \n",
    "@app.route(\"/height\",  methods=[\"POST\", \"GET\"])\n",
    "def test2():\n",
    "    if (request.method==\"POST\"):\n",
    "\n",
    "        model = load_model('Height.h5')   \n",
    "        display(request.form)\n",
    "        input_height = request.form.get('height')\n",
    "        print(input_height)\n",
    "        result = height_predict(model, np.array([[input_height]]))\n",
    "        print(result)\n",
    "        tr = str(float(result[0][71])*100//1/100)\n",
    "        return redirect(\"http://localhost:8089/dodam/note.do?tr=\"+tr)\n",
    "    else:\n",
    "        return \"NOT FOUND 404\"\n",
    "\n",
    "    \n",
    "if __name__ == \"__main__\":\n",
    "    app.run(host = \"127.0.0.1\", port =7000)\n",
    "    # result = test()"
   ]
  },
  {
   "cell_type": "code",
   "execution_count": null,
   "id": "d3bcbb38",
   "metadata": {},
   "outputs": [],
   "source": []
  }
 ],
 "metadata": {
  "kernelspec": {
   "display_name": "Python 3 (ipykernel)",
   "language": "python",
   "name": "python3"
  },
  "language_info": {
   "codemirror_mode": {
    "name": "ipython",
    "version": 3
   },
   "file_extension": ".py",
   "mimetype": "text/x-python",
   "name": "python",
   "nbconvert_exporter": "python",
   "pygments_lexer": "ipython3",
   "version": "3.9.7"
  },
  "toc": {
   "base_numbering": 1,
   "nav_menu": {},
   "number_sections": true,
   "sideBar": true,
   "skip_h1_title": false,
   "title_cell": "Table of Contents",
   "title_sidebar": "Contents",
   "toc_cell": false,
   "toc_position": {},
   "toc_section_display": true,
   "toc_window_display": true
  }
 },
 "nbformat": 4,
 "nbformat_minor": 5
}
